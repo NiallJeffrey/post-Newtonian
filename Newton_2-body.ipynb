{
 "cells": [
  {
   "cell_type": "code",
   "execution_count": 1,
   "metadata": {},
   "outputs": [],
   "source": [
    "import matplotlib as mpl\n",
    "import matplotlib.pyplot as plt\n",
    "import numpy as np\n",
    "from scipy.integrate import odeint"
   ]
  },
  {
   "cell_type": "code",
   "execution_count": 2,
   "metadata": {},
   "outputs": [],
   "source": [
    "def vel_components(vel_relative, mass1, mass2):\n",
    "    specific_vel_relative = vel_relative / (mass1 + mass2)\n",
    "    return specific_vel_relative * mass2, specific_vel_relative * mass1"
   ]
  },
  {
   "cell_type": "markdown",
   "metadata": {},
   "source": [
    "## Working in relative coordinates for particles 1 and 2:\n",
    "### $\\mathbf{a} = \\mathbf{a}_1 - \\mathbf{a}_2$\n",
    "### $\\mathbf{r} = \\mathbf{r}_1 - \\mathbf{r}_2=(r_x,r_y)$\n",
    "### $\\mathbf{n} = \\mathbf{r}/r = \\mathbf{n}_{12} = -\\mathbf{n}_{21}$\n",
    "\n",
    "\n",
    "## EOM:\n",
    "### $\\mathbf{a} = \\mathbf{r}''(t) = -\\frac{ G m }{r^2 (t)} \\mathbf{n}(t)$, with $m = M_1  + M_2$\n",
    "### $r_x''(t) = -\\frac{ G m }{(r_x^2 + r_y^2)^{3/2}} r_x $ and $r_y''(t) = -\\frac{ G m }{(r_x^2 + r_y^2)^{3/2}} r_y $\n",
    "\n",
    "## For Python : $y = r_x, r_y, r_x', r_y' =r_x, r_y, v_x, v_y$"
   ]
  },
  {
   "cell_type": "code",
   "execution_count": 4,
   "metadata": {},
   "outputs": [],
   "source": [
    "def relative_a_component(r_x, r_y, Gm):\n",
    "    return -Gm*r_x* ((r_x*r_x +r_y*r_y)**(-1.5))\n",
    "\n",
    "def relative_dynamics(y,t,Gm):\n",
    "    r_x, r_y, v_x, v_y = y\n",
    "    dydt = [v_x, v_y, relative_a_component(r_x, r_y, Gm), relative_a_component(r_y, r_x, Gm)]\n",
    "    return dydt"
   ]
  },
  {
   "cell_type": "code",
   "execution_count": 22,
   "metadata": {},
   "outputs": [],
   "source": [
    "y0 = [-1, 1, .1, 0.5]\n",
    "Gm_val = 1\n",
    "t = np.linspace(0, 10, 101)"
   ]
  },
  {
   "cell_type": "code",
   "execution_count": 23,
   "metadata": {},
   "outputs": [],
   "source": [
    "from scipy.integrate import odeint\n",
    "sol = odeint(relative_dynamics, y0, t, args=(Gm_val,))"
   ]
  },
  {
   "cell_type": "code",
   "execution_count": 26,
   "metadata": {},
   "outputs": [
    {
     "ename": "SyntaxError",
     "evalue": "invalid syntax (<ipython-input-26-e68a028ef308>, line 3)",
     "output_type": "error",
     "traceback": [
      "\u001b[0;36m  File \u001b[0;32m\"<ipython-input-26-e68a028ef308>\"\u001b[0;36m, line \u001b[0;32m3\u001b[0m\n\u001b[0;31m    plt.plot(t, np.sqrt(sol[:, 10**2..+sol[:, 1]**2.), label='|r|')\u001b[0m\n\u001b[0m                                      ^\u001b[0m\n\u001b[0;31mSyntaxError\u001b[0m\u001b[0;31m:\u001b[0m invalid syntax\n"
     ]
    }
   ],
   "source": [
    "plt.plot(t, sol[:, 0], label='r_x')\n",
    "plt.plot(t, sol[:, 1], label='r_y')\n",
    "plt.plot(t, np.sqrt(sol[:, 10**2..+sol[:, 1]**2.), label='|r|')\n",
    "plt.legend(loc='best')\n",
    "plt.xlabel('t')\n",
    "plt.grid()"
   ]
  },
  {
   "cell_type": "code",
   "execution_count": 25,
   "metadata": {},
   "outputs": [
    {
     "name": "stderr",
     "output_type": "stream",
     "text": [
      "No handles with labels found to put in legend.\n"
     ]
    },
    {
     "data": {
      "image/png": "[encoded data removed]",
      "text/plain": [
       "<Figure size 432x288 with 1 Axes>"
      ]
     },
     "metadata": {
      "needs_background": "light"
     },
     "output_type": "display_data"
    }
   ],
   "source": [
    "plt.plot(sol[:, 0], sol[:, 1])\n",
    "plt.legend(loc='best')\n",
    "plt.grid()\n",
    "plt.show()"
   ]
  },
  {
   "cell_type": "code",
   "execution_count": null,
   "metadata": {},
   "outputs": [],
   "source": []
  }
 ],
 "metadata": {
  "kernelspec": {
   "display_name": "Python 3",
   "language": "python",
   "name": "python3"
  },
  "language_info": {
   "codemirror_mode": {
    "name": "ipython",
    "version": 3
   },
   "file_extension": ".py",
   "mimetype": "text/x-python",
   "name": "python",
   "nbconvert_exporter": "python",
   "pygments_lexer": "ipython3",
   "version": "3.6.8"
  }
 },
 "nbformat": 4,
 "nbformat_minor": 2
}

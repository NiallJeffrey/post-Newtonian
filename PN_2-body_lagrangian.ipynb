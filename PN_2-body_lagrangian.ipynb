{
 "cells": [
  {
   "cell_type": "code",
   "execution_count": 1,
   "metadata": {},
   "outputs": [],
   "source": [
    "import matplotlib as mpl\n",
    "import matplotlib.pyplot as plt\n",
    "import numpy as np\n",
    "from scipy.integrate import odeint"
   ]
  },
  {
   "cell_type": "markdown",
   "metadata": {},
   "source": [
    "## Working in relative coordinates for particles 1 and 2:\n",
    "## (This makes PN corrections easier)\n",
    "### $\\mathbf{a} = \\mathbf{a}_1 - \\mathbf{a}_2$\n",
    "### $\\mathbf{r} = \\mathbf{r}_1 - \\mathbf{r}_2=(r_x,r_y)$\n",
    "### $\\mathbf{n} = \\mathbf{r}/r = \\mathbf{n}_{12} = -\\mathbf{n}_{21}$\n",
    "\n",
    "\n",
    "## Lagrandian:\n",
    "### Richardson & Kelly 1988\n",
    "\n",
    "\\begin{equation}\n",
    "\\mathcal{L} = v^2 /2 + \\frac{Gm}{r} + \\frac{(1-3\\eta)}{8 c^2} v^3 - \\frac{1}{2 c^2} \\Big( \\frac{Gm}{r} \\Big)^2  + \\frac{Gm}{2 r c^2} \\Big( (3 +\\eta)v^2 + \\frac{\\eta}{r^2} (\\mathbf{r} \\cdot \\mathbf{v})^2 \\Big) + \\mathcal{O}(c^{-4})\n",
    "\\end{equation}\n",
    "\n",
    "\n",
    "with: $m = M_1  + M_2$ , and  $\\ \\ \\eta = (M_1 M_2) / (M_1  + M_2)^2$\n",
    "\n",
    "\n",
    "## For Python : $y = r_x, r_y, r_x', r_y' =r_x, r_y, v_x, v_y$"
   ]
  },
  {
   "cell_type": "code",
   "execution_count": 2,
   "metadata": {},
   "outputs": [
    {
     "name": "stdout",
     "output_type": "stream",
     "text": [
      "0.2485207100591716\n"
     ]
    }
   ],
   "source": [
    "c_squared_val = (3e8)**2.\n",
    "M_1_GW150914 = 35 * 1.989e+30\n",
    "M_2_GW150914 = 30 * 1.989e+30 \n",
    "eta_val = (M_1_GW150914 * M_2_GW150914) / ((M_1_GW150914 +  M_2_GW150914)**2.)\n",
    "print(eta_val)\n",
    "Gm_val = 6.674e-11 * (M_1_GW150914 + M_2_GW150914)\n",
    "t = np.linspace(0, 5, int(1e4))"
   ]
  },
  {
   "cell_type": "code",
   "execution_count": 3,
   "metadata": {},
   "outputs": [],
   "source": [
    "r_isco_tot_approx = 6 * Gm_val / c_squared_val"
   ]
  },
  {
   "cell_type": "code",
   "execution_count": 4,
   "metadata": {},
   "outputs": [],
   "source": [
    "y0 = [r_isco_tot_approx*20., 0., 0., r_isco_tot_approx*37]"
   ]
  }
 ],
 "metadata": {
  "kernelspec": {
   "display_name": "Python 3",
   "language": "python",
   "name": "python3"
  },
  "language_info": {
   "codemirror_mode": {
    "name": "ipython",
    "version": 3
   },
   "file_extension": ".py",
   "mimetype": "text/x-python",
   "name": "python",
   "nbconvert_exporter": "python",
   "pygments_lexer": "ipython3",
   "version": "3.6.8"
  }
 },
 "nbformat": 4,
 "nbformat_minor": 2
}

{
  "nbformat": 4,
  "nbformat_minor": 0,
  "metadata": {
    "colab": {
      "name": "nbody_solver.ipynb",
      "provenance": [],
      "collapsed_sections": [],
      "authorship_tag": "ABX9TyMVFTd9f5VtneB5rKF2YdmD",
      "include_colab_link": true
    },
    "kernelspec": {
      "name": "python3",
      "display_name": "Python 3"
    }
  },
  "cells": [
    {
      "cell_type": "markdown",
      "metadata": {
        "id": "view-in-github",
        "colab_type": "text"
      },
      "source": [
        "<a href=\"https://colab.research.google.com/github/NiallJeffrey/post-Newtonian/blob/master/nbody_solver.ipynb\" target=\"_parent\"><img src=\"https://colab.research.google.com/assets/colab-badge.svg\" alt=\"Open In Colab\"/></a>"
      ]
    },
    {
      "cell_type": "code",
      "metadata": {
        "colab": {
          "base_uri": "https://localhost:8080/"
        },
        "id": "MgROGxkbHnc8",
        "outputId": "a06819ce-c1ec-41d3-d0d7-69a615a1bc51"
      },
      "source": [
        "import matplotlib.pyplot as plt\n",
        "import time\n",
        "import jax\n",
        "# import numpy as np\n",
        "import jax.numpy as np\n",
        "from jax import jit\n",
        "from jax.experimental.ode import odeint\n",
        "import scipy.integrate as osp_integrate\n",
        "from jax.ops import index, index_add, index_update\n",
        "from jax.config import config\n",
        "config.update(\"jax_enable_x64\", True)\n",
        "\n",
        "from jax.lib import xla_bridge\n",
        "print(xla_bridge.get_backend().platform)\n",
        "print('(GPU is often slower)')"
      ],
      "execution_count": 1,
      "outputs": [
        {
          "output_type": "stream",
          "text": [
            "WARNING:absl:No GPU/TPU found, falling back to CPU. (Set TF_CPP_MIN_LOG_LEVEL=0 and rerun for more info.)\n"
          ],
          "name": "stderr"
        },
        {
          "output_type": "stream",
          "text": [
            "cpu\n",
            "(GPU is often slower)\n"
          ],
          "name": "stdout"
        }
      ]
    },
    {
      "cell_type": "code",
      "metadata": {
        "id": "ZLh3eQsNJh8l"
      },
      "source": [
        "@jit \n",
        "def acceleration_vector(r, Gm):\n",
        "    return -Gm*r* (np.linalg.norm(r)**(-3))\n",
        "\n",
        "@jit\n",
        "def dydt(y,t,Gm):\n",
        "  n_objects = len(Gm)\n",
        "  r, v = y.reshape((2,n_objects,3))\n",
        "  a = np.zeros(v.shape)\n",
        "\n",
        "  # Loop over each i object to calculate forces\n",
        "  for i in range(n_objects):\n",
        "    # Sum over other j object contributions\n",
        "    for j in range(n_objects):\n",
        "      if i!=j: \n",
        "        # a[i] += acceleration_vector((r[i]-r[j]), Gm[j])\n",
        "        a = index_add(a, index[i,:],acceleration_vector(r[i]-r[j], Gm[j]))\n",
        "\n",
        "  return np.concatenate([v.flatten(), a.flatten()])\n",
        "    "
      ],
      "execution_count": 2,
      "outputs": []
    },
    {
      "cell_type": "code",
      "metadata": {
        "id": "_EkgRsn6Ji0b"
      },
      "source": [
        "p1 = np.array([0.0, 0.0, 0.0, 0.0, 0.0, 0.0])\n",
        "p2 = np.array([1., 0., 0, 0., 3.,.0])\n",
        "p3 = np.array([-2., 0., 0, 0., -2.1,.0])\n",
        "p4 = np.array([9., 0., 0, 0., 1.,.0])\n",
        "# print(p1)\n",
        "# print(p2)\n",
        "# print(p3)\n",
        "# print(p4)\n",
        "y0 = np.concatenate([p1[:3],p2[:3],p3[:3],p4[:3],p1[3:],p2[3:],p3[3:],p4[3:]])\n",
        "# y0 = np.concatenate([p1[:3],p2[:3],p1[3:],p2[3:]])\n",
        "Gm = np.array([9.,0.05, 0.05,0.05])"
      ],
      "execution_count": 45,
      "outputs": []
    },
    {
      "cell_type": "code",
      "metadata": {
        "colab": {
          "base_uri": "https://localhost:8080/"
        },
        "id": "85NX0rjIF81C",
        "outputId": "d5e8560f-f4e4-4279-e34b-44723df1e744"
      },
      "source": [
        "y0.reshape((2,4,3))"
      ],
      "execution_count": 47,
      "outputs": [
        {
          "output_type": "execute_result",
          "data": {
            "text/plain": [
              "DeviceArray([[[ 0. ,  0. ,  0. ],\n",
              "              [ 1. ,  0. ,  0. ],\n",
              "              [-2. ,  0. ,  0. ],\n",
              "              [ 9. ,  0. ,  0. ]],\n",
              "\n",
              "             [[ 0. ,  0. ,  0. ],\n",
              "              [ 0. ,  3. ,  0. ],\n",
              "              [ 0. , -2.1,  0. ],\n",
              "              [ 0. ,  1. ,  0. ]]], dtype=float64)"
            ]
          },
          "metadata": {
            "tags": []
          },
          "execution_count": 47
        }
      ]
    },
    {
      "cell_type": "code",
      "metadata": {
        "colab": {
          "base_uri": "https://localhost:8080/"
        },
        "id": "vpTOn0-LJ8Ie",
        "outputId": "b71b2a3f-579d-40b8-f740-debddf80d93c"
      },
      "source": [
        "dydt(y0,0.,Gm).reshape((2,4,3))"
      ],
      "execution_count": 48,
      "outputs": [
        {
          "output_type": "execute_result",
          "data": {
            "text/plain": [
              "DeviceArray([[[ 0.        ,  0.        ,  0.        ],\n",
              "              [ 0.        ,  3.        ,  0.        ],\n",
              "              [ 0.        , -2.1       ,  0.        ],\n",
              "              [ 0.        ,  1.        ,  0.        ]],\n",
              "\n",
              "             [[ 0.03811728, -0.        , -0.        ],\n",
              "              [-9.00477431, -0.        , -0.        ],\n",
              "              [ 2.25596878, -0.        , -0.        ],\n",
              "              [-0.11230558, -0.        , -0.        ]]], dtype=float64)"
            ]
          },
          "metadata": {
            "tags": []
          },
          "execution_count": 48
        }
      ]
    },
    {
      "cell_type": "code",
      "metadata": {
        "id": "0MHqpOqCivc9"
      },
      "source": [
        "tsteps = np.linspace(0, 5, 200)"
      ],
      "execution_count": 49,
      "outputs": []
    },
    {
      "cell_type": "code",
      "metadata": {
        "colab": {
          "base_uri": "https://localhost:8080/"
        },
        "id": "kttnwzOdFHiO",
        "outputId": "df088961-ed03-4e5c-d618-723a5746472d"
      },
      "source": [
        "%time jax_result_r, jax_result_v = odeint(dydt, y0, tsteps, Gm, rtol=1e-10).T.reshape(2,len(Gm),3, len(tsteps))"
      ],
      "execution_count": 50,
      "outputs": [
        {
          "output_type": "stream",
          "text": [
            "CPU times: user 4.79 s, sys: 62 ms, total: 4.85 s\n",
            "Wall time: 4.86 s\n"
          ],
          "name": "stdout"
        }
      ]
    },
    {
      "cell_type": "code",
      "metadata": {
        "colab": {
          "base_uri": "https://localhost:8080/",
          "height": 267
        },
        "id": "-KLp5-LURxv9",
        "outputId": "26441d34-0a8a-4fa5-c3d6-3e243d97192b"
      },
      "source": [
        "for i in range(4):  \n",
        "  plt.plot(jax_result_r[i,0],jax_result_r[i,1])"
      ],
      "execution_count": 51,
      "outputs": [
        {
          "output_type": "display_data",
          "data": {
            "image/png": "[encoded data removed]",
            "text/plain": [
              "<Figure size 432x288 with 1 Axes>"
            ]
          },
          "metadata": {
            "tags": [],
            "needs_background": "light"
          }
        }
      ]
    },
    {
      "cell_type": "code",
      "metadata": {
        "id": "_aezCXEySaSF"
      },
      "source": [
        ""
      ],
      "execution_count": null,
      "outputs": []
    }
  ]
}
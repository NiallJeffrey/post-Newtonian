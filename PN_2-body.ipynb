{
 "cells": [
  {
   "cell_type": "code",
   "execution_count": 1,
   "metadata": {},
   "outputs": [],
   "source": [
    "import matplotlib as mpl\n",
    "import matplotlib.pyplot as plt\n",
    "import numpy as np\n",
    "from scipy.integrate import odeint"
   ]
  },
  {
   "cell_type": "markdown",
   "metadata": {},
   "source": [
    "## Working in relative coordinates for particles 1 and 2:\n",
    "## (This makes PN corrections easier)\n",
    "### $\\mathbf{a} = \\mathbf{a}_1 - \\mathbf{a}_2$\n",
    "### $\\mathbf{r} = \\mathbf{r}_1 - \\mathbf{r}_2=(r_x,r_y)$\n",
    "### $\\mathbf{n} = \\mathbf{r}/r = \\mathbf{n}_{12} = -\\mathbf{n}_{21}$\n",
    "\n",
    "\n",
    "## EOM:\n",
    "\\begin{equation}\n",
    "\\begin{split}\n",
    "\\mathbf{a} = \\mathbf{r}''(t) = &-\\frac{ G m }{r^2 (t)} \\mathbf{n}(t)  \\\\\n",
    "&-  \\frac{Gm}{c^2 r^2 } \\Bigg( \\Big( v^2 (1+3\\eta) - \\frac{3}{2} (\\mathbf{n} \\cdot \\mathbf{v})^2 \\eta - 2(2+\\eta) \\frac{Gm}{r} \\Big) \\mathbf{n} \\\\\n",
    "& \\hspace{2cm}  - 2 (2-\\eta) (\\mathbf{n} \\cdot \\mathbf{v})  \\mathbf{v} \\Bigg) \\\\\n",
    "& \\ + \\mathcal{O} \\Big( \\frac{1}{c^{4}} \\Big)\n",
    "\\end{split}\n",
    "\\end{equation}\n",
    "\n",
    "\n",
    "with: $m = M_1  + M_2$ , and  $\\ \\ \\eta = (M_1 M_2) / (M_1  + M_2)^2$\n",
    "### $r_x''(t) = a_{0} + a_{1} + a_{2} + a_{3} + a_{4}$\n",
    "### $a_0(t) = -\\frac{ G m }{(r_x^2 + r_y^2)^{3/2}} r_x $\n",
    "### $a_1(t) = -\\frac{ G m }{c^2 (r_x^2 + r_y^2)^{3/2}}r_x (v_x^2 + v_y^2) ( 1 + 3 \\eta) $\n",
    "### $a_2(t) = +\\frac{3}{2}\\frac{ G m }{c^2 (r_x^2 + r_y^2)^{5/2}}r_x (r_x v_x + r_y v_y)^2 \\eta $\n",
    "### $a_3(t) = +2\\frac{ (G m)^2 }{c^2 (r_x^2 + r_y^2)^{4/2}}r_x ( 2 + \\eta) $\n",
    "### $a_4(t) = +2\\frac{ G m }{c^2 (r_x^2 + r_y^2)^{3/2}}( 2 -\\eta)(r_x v_x + r_y v_y) v_x$\n",
    "\n",
    "\n",
    "## For Python : $y = r_x, r_y, r_x', r_y' =r_x, r_y, v_x, v_y$"
   ]
  },
  {
   "cell_type": "code",
   "execution_count": null,
   "metadata": {},
   "outputs": [],
   "source": []
  }
 ],
 "metadata": {
  "kernelspec": {
   "display_name": "Python 3",
   "language": "python",
   "name": "python3"
  },
  "language_info": {
   "codemirror_mode": {
    "name": "ipython",
    "version": 3
   },
   "file_extension": ".py",
   "mimetype": "text/x-python",
   "name": "python",
   "nbconvert_exporter": "python",
   "pygments_lexer": "ipython3",
   "version": "3.6.8"
  }
 },
 "nbformat": 4,
 "nbformat_minor": 2
}
